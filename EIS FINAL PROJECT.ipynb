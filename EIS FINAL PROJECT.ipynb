{
 "cells": [
  {
   "cell_type": "code",
   "execution_count": 2,
   "id": "f0166172",
   "metadata": {},
   "outputs": [
    {
     "name": "stdout",
     "output_type": "stream",
     "text": [
      "  Product type   SKU      Price  Availability  Number of products sold  \\\n",
      "0     haircare  SKU0  69.808006            55                      802   \n",
      "1     skincare  SKU1  14.843523            95                      736   \n",
      "2     haircare  SKU2  11.319683            34                        8   \n",
      "3     skincare  SKU3  61.163343            68                       83   \n",
      "4     skincare  SKU4   4.805496            26                      871   \n",
      "\n",
      "   Revenue generated Customer demographics  Stock levels  Lead times  \\\n",
      "0        8661.996792            Non-binary            58           7   \n",
      "1        7460.900065                Female            53          30   \n",
      "2        9577.749626               Unknown             1          10   \n",
      "3        7766.836426            Non-binary            23          13   \n",
      "4        2686.505152            Non-binary             5           3   \n",
      "\n",
      "   Order quantities  ...  Location Lead time  Production volumes  \\\n",
      "0                96  ...    Mumbai        29                 215   \n",
      "1                37  ...    Mumbai        23                 517   \n",
      "2                88  ...    Mumbai        12                 971   \n",
      "3                59  ...   Kolkata        24                 937   \n",
      "4                56  ...     Delhi         5                 414   \n",
      "\n",
      "  Manufacturing lead time Manufacturing costs  Inspection results  \\\n",
      "0                      29           46.279879             Pending   \n",
      "1                      30           33.616769             Pending   \n",
      "2                      27           30.688019             Pending   \n",
      "3                      18           35.624741                Fail   \n",
      "4                       3           92.065161                Fail   \n",
      "\n",
      "   Defect rates  Transportation modes   Routes       Costs  \n",
      "0      0.226410                  Road  Route B  187.752075  \n",
      "1      4.854068                  Road  Route B  503.065579  \n",
      "2      4.580593                   Air  Route C  141.920282  \n",
      "3      4.746649                  Rail  Route A  254.776159  \n",
      "4      3.145580                   Air  Route A  923.440632  \n",
      "\n",
      "[5 rows x 24 columns]\n"
     ]
    }
   ],
   "source": [
    "# Import required libraries\n",
    "# Import required libraries\n",
    "import pandas as pd\n",
    "import numpy as np\n",
    "import seaborn as sns\n",
    "import matplotlib.pyplot as plt\n",
    "from sklearn.preprocessing import MinMaxScaler\n",
    "from sklearn.ensemble import RandomForestRegressor\n",
    "from sklearn.linear_model import LogisticRegression\n",
    "from sklearn.cluster import KMeans\n",
    "from sklearn.model_selection import train_test_split\n",
    "from sklearn.metrics import mean_squared_error, accuracy_score, classification_report\n",
    "# Load dataset\n",
    "file_path = \"C:/Users/seshi/Downloads/supply_chain_data.csv\"\n",
    "data = pd.read_csv(file_path)\n",
    "\n",
    "# Display the first few rows for verification\n",
    "print(data.head())"
   ]
  },
  {
   "cell_type": "code",
   "execution_count": 3,
   "id": "b487349c",
   "metadata": {},
   "outputs": [],
   "source": [
    "scaler = MinMaxScaler()\n",
    "data[['Normalized Lead Times', 'Normalized Defect Rates', 'Normalized Costs']] = scaler.fit_transform(\n",
    "    data[['Lead times', 'Defect rates', 'Costs']]\n",
    ")\n",
    "\n",
    "# Combine factors into a single risk score\n",
    "data['Delay Risk'] = (\n",
    "    data['Normalized Lead Times'] * 0.4 +  # Assign weights based on importance\n",
    "    data['Normalized Defect Rates'] * 0.4 +\n",
    "    data['Normalized Costs'] * 0.2\n",
    ")"
   ]
  },
  {
   "cell_type": "code",
   "execution_count": 4,
   "id": "9ca8ea09",
   "metadata": {},
   "outputs": [
    {
     "name": "stderr",
     "output_type": "stream",
     "text": [
      "C:\\Users\\seshi\\anaconda3\\Lib\\site-packages\\sklearn\\cluster\\_kmeans.py:1412: FutureWarning: The default value of `n_init` will change from 10 to 'auto' in 1.4. Set the value of `n_init` explicitly to suppress the warning\n",
      "  super()._check_params_vs_input(X, default_n_init=10)\n",
      "C:\\Users\\seshi\\anaconda3\\Lib\\site-packages\\sklearn\\cluster\\_kmeans.py:1436: UserWarning: KMeans is known to have a memory leak on Windows with MKL, when there are less chunks than available threads. You can avoid it by setting the environment variable OMP_NUM_THREADS=1.\n",
      "  warnings.warn(\n"
     ]
    }
   ],
   "source": [
    "# --- Inventory Clustering ---# Features for clustering\n",
    "clustering_features = data[['Stock levels', 'Defect rates', 'Revenue generated']]\n",
    "kmeans = KMeans(n_clusters=3, random_state=42)\n",
    "data['Inventory Cluster'] = kmeans.fit_predict(clustering_features)\n"
   ]
  },
  {
   "cell_type": "code",
   "execution_count": 5,
   "id": "93f3d10d",
   "metadata": {},
   "outputs": [],
   "source": [
    "# Adjust clusters for cities with issues\n",
    "for city in data['Location'].unique():\n",
    "    city_mode = data[data['Location'] == city]['Inventory Cluster'].mode()[0]\n",
    "    data.loc[data['Location'] == city, 'Inventory Cluster'] = city_mode"
   ]
  },
  {
   "cell_type": "code",
   "execution_count": 6,
   "id": "4f91c2ae",
   "metadata": {},
   "outputs": [],
   "source": [
    "# --- Predictive Modeling for Lead Time ---"
   ]
  },
  {
   "cell_type": "code",
   "execution_count": 7,
   "id": "7b3d035d",
   "metadata": {},
   "outputs": [
    {
     "name": "stdout",
     "output_type": "stream",
     "text": [
      "Mean Squared Error for Lead Time Prediction: 101.42438\n",
      "   Lead times  Predicted Lead Time\n",
      "0           7                16.16\n",
      "1          30                25.85\n",
      "2          10                12.19\n",
      "3          13                13.04\n",
      "4           3                11.97\n"
     ]
    }
   ],
   "source": [
    "# Prepare features and target for lead time prediction\n",
    "X_lead = pd.get_dummies(data[['Manufacturing costs', 'Production volumes', 'Transportation modes']], drop_first=True)\n",
    "y_lead = data['Lead times']\n",
    "\n",
    "# Train-test split\n",
    "X_train_lead, X_test_lead, y_train_lead, y_test_lead = train_test_split(X_lead, y_lead, test_size=0.2, random_state=42)\n",
    "\n",
    "# Train regression model\n",
    "regressor = RandomForestRegressor(random_state=42)\n",
    "regressor.fit(X_train_lead, y_train_lead)\n",
    "\n",
    "# Predict lead time for the entire dataset\n",
    "data['Predicted Lead Time'] = regressor.predict(X_lead)\n",
    "\n",
    "# Evaluate the model\n",
    "mse_lead = mean_squared_error(y_test_lead, regressor.predict(X_test_lead))\n",
    "print(\"Mean Squared Error for Lead Time Prediction:\", mse_lead)\n",
    "\n",
    "# Verify column creation\n",
    "print(data[['Lead times', 'Predicted Lead Time']].head())\n"
   ]
  },
  {
   "cell_type": "code",
   "execution_count": 8,
   "id": "4fe64d56",
   "metadata": {},
   "outputs": [],
   "source": [
    "# --- Predictive Modeling for Delay Risk ---"
   ]
  },
  {
   "cell_type": "code",
   "execution_count": 9,
   "id": "1647340f",
   "metadata": {},
   "outputs": [
    {
     "name": "stdout",
     "output_type": "stream",
     "text": [
      "Mean Squared Error for Delay Risk Prediction: 0.004636090522148162\n"
     ]
    }
   ],
   "source": [
    "# Features and target for regression\n",
    "X_delay = pd.get_dummies(data[['Lead times', 'Manufacturing costs', 'Defect rates', 'Transportation modes']], drop_first=True)\n",
    "y_delay = data['Delay Risk']\n",
    "\n",
    "# Train-test split\n",
    "X_train_delay, X_test_delay, y_train_delay, y_test_delay = train_test_split(X_delay, y_delay, test_size=0.2, random_state=42)\n",
    "\n",
    "# Train regression model for delay risk\n",
    "delay_risk_model = RandomForestRegressor(random_state=42)\n",
    "delay_risk_model.fit(X_train_delay, y_train_delay)\n",
    "\n",
    "# Predict and evaluate\n",
    "data['Predicted Delay Risk'] = delay_risk_model.predict(X_delay)\n",
    "mse_delay = mean_squared_error(y_test_delay, delay_risk_model.predict(X_test_delay))\n",
    "print(\"Mean Squared Error for Delay Risk Prediction:\", mse_delay)"
   ]
  },
  {
   "cell_type": "code",
   "execution_count": 10,
   "id": "9fe3b902",
   "metadata": {},
   "outputs": [
    {
     "name": "stdout",
     "output_type": "stream",
     "text": [
      "Accuracy for Defect Risk Classification: 0.95\n",
      "\n",
      "Classification Report:\n",
      "               precision    recall  f1-score   support\n",
      "\n",
      "           0       0.00      0.00      0.00         1\n",
      "           1       0.95      1.00      0.97        19\n",
      "\n",
      "    accuracy                           0.95        20\n",
      "   macro avg       0.47      0.50      0.49        20\n",
      "weighted avg       0.90      0.95      0.93        20\n",
      "\n",
      "   Defect rates  Defect Risk Prediction\n",
      "0      0.226410                       1\n",
      "1      4.854068                       1\n",
      "2      4.580593                       1\n",
      "3      4.746649                       1\n",
      "4      3.145580                       1\n"
     ]
    },
    {
     "name": "stderr",
     "output_type": "stream",
     "text": [
      "C:\\Users\\seshi\\anaconda3\\Lib\\site-packages\\sklearn\\metrics\\_classification.py:1469: UndefinedMetricWarning: Precision and F-score are ill-defined and being set to 0.0 in labels with no predicted samples. Use `zero_division` parameter to control this behavior.\n",
      "  _warn_prf(average, modifier, msg_start, len(result))\n",
      "C:\\Users\\seshi\\anaconda3\\Lib\\site-packages\\sklearn\\metrics\\_classification.py:1469: UndefinedMetricWarning: Precision and F-score are ill-defined and being set to 0.0 in labels with no predicted samples. Use `zero_division` parameter to control this behavior.\n",
      "  _warn_prf(average, modifier, msg_start, len(result))\n",
      "C:\\Users\\seshi\\anaconda3\\Lib\\site-packages\\sklearn\\metrics\\_classification.py:1469: UndefinedMetricWarning: Precision and F-score are ill-defined and being set to 0.0 in labels with no predicted samples. Use `zero_division` parameter to control this behavior.\n",
      "  _warn_prf(average, modifier, msg_start, len(result))\n"
     ]
    }
   ],
   "source": [
    "# Prepare features and target for defect risk classification\n",
    "X_class = pd.get_dummies(data[['Manufacturing costs', 'Production volumes', 'Inspection results']], drop_first=True)\n",
    "y_class = (data['Defect rates'] > 0.5).astype(int)  # Binary classification: High vs. Low Defect Risk\n",
    "\n",
    "# Train-test split\n",
    "X_train_class, X_test_class, y_train_class, y_test_class = train_test_split(X_class, y_class, test_size=0.2, random_state=42)\n",
    "\n",
    "# Train classification model\n",
    "classifier = LogisticRegression(random_state=42)\n",
    "classifier.fit(X_train_class, y_train_class)\n",
    "\n",
    "# Predict defect risk for the entire dataset\n",
    "data['Defect Risk Prediction'] = classifier.predict(X_class)\n",
    "\n",
    "# Evaluate the model\n",
    "accuracy = accuracy_score(y_test_class, classifier.predict(X_test_class))\n",
    "print(\"Accuracy for Defect Risk Classification:\", accuracy)\n",
    "print(\"\\nClassification Report:\\n\", classification_report(y_test_class, classifier.predict(X_test_class)))\n",
    "\n",
    "# Verify column creation\n",
    "print(data[['Defect rates', 'Defect Risk Prediction']].head())"
   ]
  },
  {
   "cell_type": "code",
   "execution_count": 11,
   "id": "d2315fea",
   "metadata": {},
   "outputs": [],
   "source": [
    "# Calculate difference between actual and predicted delay risk\n",
    "data['Delay Risk Difference'] = data['Delay Risk'] - data['Predicted Delay Risk']"
   ]
  },
  {
   "cell_type": "code",
   "execution_count": 12,
   "id": "04c89ba4",
   "metadata": {},
   "outputs": [
    {
     "name": "stdout",
     "output_type": "stream",
     "text": [
      "   Delay Risk  Predicted Delay Risk\n",
      "0    0.118417              0.175819\n",
      "1    0.882421              0.865724\n",
      "2    0.503489              0.517451\n",
      "3    0.583629              0.568090\n",
      "4    0.465220              0.412566\n"
     ]
    }
   ],
   "source": [
    "# Ensure the necessary features for delay risk prediction exist\n",
    "X_delay = pd.get_dummies(data[['Lead times', 'Manufacturing costs', 'Defect rates', 'Transportation modes']], drop_first=True)\n",
    "y_delay = data['Delay Risk']\n",
    "\n",
    "# Train-test split for delay risk regression\n",
    "X_train_delay, X_test_delay, y_train_delay, y_test_delay = train_test_split(X_delay, y_delay, test_size=0.2, random_state=42)\n",
    "\n",
    "# Train regression model for delay risk prediction\n",
    "delay_risk_model = RandomForestRegressor(random_state=42)\n",
    "delay_risk_model.fit(X_train_delay, y_train_delay)\n",
    "\n",
    "# Predict delay risk for the entire dataset\n",
    "data['Predicted Delay Risk'] = delay_risk_model.predict(X_delay)\n",
    "\n",
    "# Verify column creation\n",
    "print(data[['Delay Risk', 'Predicted Delay Risk']].head())"
   ]
  },
  {
   "cell_type": "code",
   "execution_count": 14,
   "id": "b4e8d87f",
   "metadata": {},
   "outputs": [],
   "source": [
    "# --- Optimized Costs ---"
   ]
  },
  {
   "cell_type": "code",
   "execution_count": 13,
   "id": "07231406",
   "metadata": {},
   "outputs": [
    {
     "name": "stdout",
     "output_type": "stream",
     "text": [
      "Optimized Costs column created successfully.\n"
     ]
    }
   ],
   "source": [
    "# Ensure Predicted Delay Risk exists in the dataset\n",
    "if 'Predicted Delay Risk' in data.columns:\n",
    "    # Adjust costs for low-risk scenarios\n",
    "    data['Optimized Costs'] = np.where(\n",
    "        data['Predicted Delay Risk'] < 0.5,\n",
    "        data['Costs'] * 0.9,  # Apply 10% reduction\n",
    "        data['Costs']\n",
    "    )\n",
    "    print(\"Optimized Costs column created successfully.\")\n",
    "else:\n",
    "    print(\"Error: 'Predicted Delay Risk' column is missing.\")\n"
   ]
  },
  {
   "cell_type": "code",
   "execution_count": 15,
   "id": "427b68a8",
   "metadata": {},
   "outputs": [],
   "source": [
    "# Adjust optimized costs for all cities\n",
    "for city in data['Location'].unique():\n",
    "    city_mean_cost = data[data['Location'] == city]['Optimized Costs'].mean()\n",
    "    data.loc[data['Location'] == city, 'Optimized Costs'] = city_mean_cost"
   ]
  },
  {
   "cell_type": "code",
   "execution_count": 16,
   "id": "99aece0c",
   "metadata": {},
   "outputs": [],
   "source": [
    "# --- Feature Importance ---"
   ]
  },
  {
   "cell_type": "code",
   "execution_count": 17,
   "id": "71bee614",
   "metadata": {},
   "outputs": [],
   "source": [
    "# Feature importance for delay risk\n",
    "delay_feature_importance = pd.Series(delay_risk_model.feature_importances_, index=X_delay.columns).sort_values(ascending=False)\n",
    "delay_feature_importance.to_csv(\"feature_importance_delay_risk.csv\")\n"
   ]
  },
  {
   "cell_type": "code",
   "execution_count": 18,
   "id": "c1caf2c2",
   "metadata": {},
   "outputs": [],
   "source": [
    "# Feature importance for lead time\n",
    "lead_feature_importance = pd.Series(regressor.feature_importances_, index=X_lead.columns).sort_values(ascending=False)\n",
    "lead_feature_importance.to_csv(\"feature_importance_lead_times.csv\")\n"
   ]
  },
  {
   "cell_type": "code",
   "execution_count": 19,
   "id": "d16f2f3b",
   "metadata": {},
   "outputs": [
    {
     "data": {
      "image/png": "[encoded data removed]",
      "text/plain": [
       "<Figure size 1000x600 with 1 Axes>"
      ]
     },
     "metadata": {},
     "output_type": "display_data"
    }
   ],
   "source": [
    "# Plot feature importance for visualization\n",
    "plt.figure(figsize=(10, 6))\n",
    "sns.barplot(x=lead_feature_importance, y=lead_feature_importance.index, palette=\"viridis\")\n",
    "plt.title('Feature Importance for Lead Time Prediction', fontsize=14)\n",
    "plt.tight_layout()\n",
    "plt.show()"
   ]
  },
  {
   "cell_type": "code",
   "execution_count": 20,
   "id": "04edf4f2",
   "metadata": {},
   "outputs": [
    {
     "name": "stdout",
     "output_type": "stream",
     "text": [
      "All required columns are present.\n"
     ]
    }
   ],
   "source": [
    "# Check for missing columns\n",
    "required_columns = ['Predicted Lead Time', 'Defect Risk Prediction']\n",
    "missing_columns = [col for col in required_columns if col not in data.columns]\n",
    "if missing_columns:\n",
    "    print(f\"Missing columns: {missing_columns}\")\n",
    "else:\n",
    "    print(\"All required columns are present.\")\n"
   ]
  },
  {
   "cell_type": "code",
   "execution_count": 21,
   "id": "35d7e0f8",
   "metadata": {},
   "outputs": [
    {
     "name": "stdout",
     "output_type": "stream",
     "text": [
      "     Location Transportation modes       Costs  Lead times  Delay Risk  \\\n",
      "2   Bangalore                 Road  523.351122   15.125000    0.451844   \n",
      "5     Chennai                 Rail  638.711248   12.000000    0.486271   \n",
      "10      Delhi                 Road  110.364335    5.000000    0.195765   \n",
      "15    Kolkata                  Sea  303.927441   11.000000    0.339519   \n",
      "19     Mumbai                  Sea  364.273847    8.666667    0.330507   \n",
      "\n",
      "    Best Mode Rank  \n",
      "2              1.0  \n",
      "5              1.0  \n",
      "10             1.0  \n",
      "15             1.0  \n",
      "19             1.0  \n"
     ]
    }
   ],
   "source": [
    "# Group data by city and transportation mode\n",
    "transport_analysis = data.groupby(['Location', 'Transportation modes']).agg({\n",
    "    'Costs': 'mean',\n",
    "    'Lead times': 'mean',\n",
    "    'Delay Risk': 'mean'\n",
    "}).reset_index()\n",
    "\n",
    "# Add a column to rank transportation modes for each city based on Delay Risk and Cost\n",
    "transport_analysis['Best Mode Rank'] = transport_analysis.groupby('Location')['Delay Risk'].rank(method='first', ascending=True)\n",
    "\n",
    "# Identify the best mode for each city\n",
    "best_transportation = transport_analysis[transport_analysis['Best Mode Rank'] == 1].copy()\n",
    "\n",
    "# Display the best transportation method for each city\n",
    "print(best_transportation)"
   ]
  },
  {
   "cell_type": "code",
   "execution_count": 22,
   "id": "db76258d",
   "metadata": {},
   "outputs": [
    {
     "name": "stdout",
     "output_type": "stream",
     "text": [
      "Processed dataset saved to: processed_supply_chain_data_final_12.csv\n"
     ]
    }
   ],
   "source": [
    "# --- Save Processed Data for Tableau ---\n",
    "output_file = \"processed_supply_chain_data_final_12.csv\"\n",
    "data.to_csv(output_file, index=False)\n",
    "print(f\"Processed dataset saved to: {output_file}\")"
   ]
  },
  {
   "cell_type": "code",
   "execution_count": 23,
   "id": "eb49695d",
   "metadata": {},
   "outputs": [
    {
     "name": "stdout",
     "output_type": "stream",
     "text": [
      "Best transportation methods saved to: best_transportation_methods.csv\n"
     ]
    }
   ],
   "source": [
    "# Save best transportation method data for Tableau\n",
    "best_transportation_file = \"best_transportation_methods.csv\"\n",
    "best_transportation.to_csv(best_transportation_file, index=False)\n",
    "print(f\"Best transportation methods saved to: {best_transportation_file}\")"
   ]
  }
 ],
 "metadata": {
  "kernelspec": {
   "display_name": "Python 3 (ipykernel)",
   "language": "python",
   "name": "python3"
  },
  "language_info": {
   "codemirror_mode": {
    "name": "ipython",
    "version": 3
   },
   "file_extension": ".py",
   "mimetype": "text/x-python",
   "name": "python",
   "nbconvert_exporter": "python",
   "pygments_lexer": "ipython3",
   "version": "3.11.4"
  }
 },
 "nbformat": 4,
 "nbformat_minor": 5
}
